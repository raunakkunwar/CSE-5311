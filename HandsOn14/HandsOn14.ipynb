{
 "cells": [
  {
   "cell_type": "markdown",
   "metadata": {},
   "source": [
    "### Dijktra algorithm\n"
   ]
  },
  {
   "cell_type": "code",
   "execution_count": 11,
   "metadata": {},
   "outputs": [
    {
     "name": "stdout",
     "output_type": "stream",
     "text": [
      "Shortest distance from node s : {'s': 0, 'y': 5, 't': 3, 'z': 11, 'x': 9}\n"
     ]
    }
   ],
   "source": [
    "import heapq\n",
    "\n",
    "def dijkstra_algo(graph, start):\n",
    "\n",
    "    distance_short = {}\n",
    "    for node in graph:\n",
    "        distance_short[node] = float('inf')  #initialize inifinity\n",
    "\n",
    "    distance_short[start] = 0\n",
    "    priority_queue = [(0, start)] # store source distance, curr node\n",
    "\n",
    "    while priority_queue:\n",
    "        current_distance, current_node = heapq.heappop(priority_queue)\n",
    "        \n",
    "        if current_distance > distance_short[current_node]:\n",
    "            continue\n",
    "        \n",
    "        # check all neighbors of curr node\n",
    "        for adjacent_node, edge_weight in graph[current_node]:\n",
    "            new_distance = distance_short[current_node] + edge_weight\n",
    "    \n",
    "            if new_distance < distance_short[adjacent_node]:\n",
    "                distance_short[adjacent_node] = new_distance\n",
    "                heapq.heappush(priority_queue, (new_distance, adjacent_node))\n",
    "\n",
    "    \n",
    "    return distance_short\n",
    "\n",
    "#Example\n",
    "graph = {\n",
    "    's': [('t', 3), ('y', 5)],\n",
    "    'y': [('t', 1), ('x', 4), ('z', 6)],\n",
    "    't': [('y', 2), ('x', 6)],\n",
    "    'z': [('s', 3), ('x', 7)],\n",
    "    'x': [('z', 2)]\n",
    "\n",
    "}\n",
    "\n",
    "start_node = 's'\n",
    "distance_short = dijkstra_algo(graph, start_node)\n",
    "\n",
    "print(\"Shortest distance from node\", start_node, \":\", distance_short)\n"
   ]
  }
 ],
 "metadata": {
  "kernelspec": {
   "display_name": "Python 3",
   "language": "python",
   "name": "python3"
  },
  "language_info": {
   "codemirror_mode": {
    "name": "ipython",
    "version": 3
   },
   "file_extension": ".py",
   "mimetype": "text/x-python",
   "name": "python",
   "nbconvert_exporter": "python",
   "pygments_lexer": "ipython3",
   "version": "3.12.5"
  }
 },
 "nbformat": 4,
 "nbformat_minor": 2
}
