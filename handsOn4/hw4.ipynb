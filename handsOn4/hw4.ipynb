{
 "cells": [
  {
   "cell_type": "markdown",
   "id": "e378550d",
   "metadata": {},
   "source": [
    "# HW 4\n",
    "\n",
    "# 0)"
   ]
  },
  {
   "cell_type": "code",
   "execution_count": 1,
   "id": "7ce1c71c",
   "metadata": {},
   "outputs": [
    {
     "name": "stdout",
     "output_type": "stream",
     "text": [
      "5\n"
     ]
    }
   ],
   "source": [
    "def fib(n):\n",
    "    if n == 0:\n",
    "        return 0\n",
    "    if n == 1:\n",
    "        return 1\n",
    "    return fib(n-1) + fib(n-2)\n",
    "\n",
    "print(fib(5))\n"
   ]
  },
  {
   "cell_type": "markdown",
   "id": "354b0a2a",
   "metadata": {},
   "source": [
    "fib(5)\n",
    "   -> fib(4)\n",
    "        -> fib(3)\n",
    "            -> fib(2)\n",
    "                -> fib(1) returns 1 #base case hit\n",
    "                -> fib(0) returns 0 #base case hit\n",
    "            -> fib(2) returns 1\n",
    "            -> fib(1) returns 1\n",
    "        -> fib(3) returns 2\n",
    "        -> fib(2)\n",
    "            -> fib(1) returns 1 #base case hit\n",
    "            -> fib(0) returns 0 #base case hit\n",
    "        -> fib(2) returns 1\n",
    "    -> fib(4) returns 3\n",
    "    -> fib(3) returns 2\n",
    "fib(5) returns 5"
   ]
  },
  {
   "cell_type": "markdown",
   "id": "c93bf490",
   "metadata": {},
   "source": [
    "# 1)"
   ]
  },
  {
   "cell_type": "code",
   "execution_count": 1,
   "id": "2da80883",
   "metadata": {},
   "outputs": [
    {
     "name": "stdout",
     "output_type": "stream",
     "text": [
      "[0, 1, 2, 3, 4, 5, 6, 7, 8, 9, 10, 11]\n"
     ]
    }
   ],
   "source": [
    "def merged_arr(arr):\n",
    "    if not arr:\n",
    "        return []\n",
    "    \n",
    "    res = arr[0]\n",
    "    \n",
    "    # loop each of the array\n",
    "    for i in range(1, len(arr)):\n",
    "        arr1 = res\n",
    "        arr2 = arr[i]\n",
    "        merged_arr = []\n",
    "        pointer1, pointer2 = 0, 0\n",
    "        \n",
    "        while pointer1 < len(arr1) and pointer2 < len(arr2):\n",
    "            if arr1[pointer1] < arr2[pointer2]:\n",
    "                merged_arr.append(arr1[pointer1])\n",
    "                pointer1 += 1\n",
    "            else:\n",
    "                merged_arr.append(arr2[pointer2])\n",
    "                pointer2 += 1\n",
    "        \n",
    "        merged_arr.extend(arr1[pointer1:]) #adding remaining elements from arr1 to merged_arr\n",
    "        merged_arr.extend(arr2[pointer2:]) #adding remaining elements from arr2 to merged_arr\n",
    "        \n",
    "        res = merged_arr\n",
    "    \n",
    "    return res\n",
    "\n",
    "array1 = [1, 3, 5, 7]\n",
    "array2 = [2, 4, 6, 8]\n",
    "array3 = [0, 9, 10, 11]\n",
    "\n",
    "arr = [array1, array2, array3]\n",
    "res = merged_arr(arr)\n",
    "print(res)\n"
   ]
  },
  {
   "cell_type": "markdown",
   "id": "4c9f13c5",
   "metadata": {},
   "source": [
    "###  def merged_arr(arr):\n",
    "###     if not arr: -----------------------------------------------------------------O(1)\n",
    "###         return [] ---------------------------------------------------------------O(1)\n",
    "    \n",
    "###     res = arr[0] ---------------------------------------------------------------O(1)\n",
    "    \n",
    "###     for i in range(1, len(arr)): --------------------------------------------O(m) where m is the number of arrays.\n",
    "###         arr1 = res --------------------------------------------------------------O(1)\n",
    "###         arr2 = arr[i] ------------------------------------------------------------O(1)\n",
    "###         merged_arr = [] ------------------------------------------------------O(1)\n",
    "###         pointer1, pointer2 = 0, 0 ------------------------------------------O(1)\n",
    "        \n",
    "###         while pointer1 < len(arr1) and pointer2 < len(arr2): -----O(n1+n2) where n1 is the length of arr1 and n2 is the length of arr2\n",
    "###             if arr1[pointer1] < arr2[pointer2]: ---------------------------O(1)\n",
    "###                 merged_arr.append(arr1[pointer1]) ---------------------O(1)\n",
    "###                 pointer1 += 1 ---------------------------------------------------O(1)\n",
    "###             else: \n",
    "###                 merged_arr.append(arr2[pointer2]) ---------------------O(1)\n",
    "###                pointer2 += 1 ----------------------------------------------------O(1)\n",
    "        \n",
    "###         merged_arr.extend(arr1[pointer1:]) -----------------------------O(n1)\n",
    "###         merged_arr.extend(arr2[pointer2:])  ----------------------------O(n2)\n",
    "        \n",
    "###         res = merged_arr ------------------------------------------------------O(1)\n",
    "    \n",
    "###     return res \n",
    "\n",
    "# 1) let n be the sum of total number of all the elements in arrays. Time complexity =O(n*m), where m is the number of arrays. \n",
    "\n",
    "# 2) I could have used min-heap. In this, heap stores the smallest element from each array and add it to the result. It would have reduced time complexity to O(nlogm).\n"
   ]
  },
  {
   "cell_type": "markdown",
   "id": "0735ebf8",
   "metadata": {},
   "source": [
    "# 2)"
   ]
  },
  {
   "cell_type": "code",
   "execution_count": 2,
   "id": "31af05c5",
   "metadata": {},
   "outputs": [
    {
     "name": "stdout",
     "output_type": "stream",
     "text": [
      "[2]\n",
      "[1, 2, 3, 4, 5]\n"
     ]
    }
   ],
   "source": [
    "def removingDublicateEle(arr):\n",
    "    res = []\n",
    "    for i in range(len(arr)):\n",
    "        if i == 0 or arr[i] != arr[i-1]:  #add only if first element or different element\n",
    "            res.append(arr[i])\n",
    "    return res\n",
    "\n",
    "array1 = [2, 2, 2, 2, 2]\n",
    "array2 = [1, 2, 2, 3, 4, 4, 4, 5, 5]\n",
    "\n",
    "print(removingDublicateEle(array1)) \n",
    "print(removingDublicateEle(array2))  \n",
    "\n"
   ]
  },
  {
   "cell_type": "markdown",
   "id": "d487b6ae",
   "metadata": {},
   "source": [
    "### def removingDublicateEle(arr):\n",
    "###     res = []  -------------------------------------------- O(1)\n",
    "###     for i in range(len(arr)): -----------------------------O(n) iterate through 0 to n-1\n",
    "###         if i == 0 or arr[i] != arr[i-1]: ------------------ O(n) \n",
    "###             res.append(arr[i]) ----------------------------- O(n)\n",
    "###     return res ----------------------------------------------O(1)\n",
    "\n",
    "# 1) therefore we can see that O(n) + O(n) + O(n)+O(1)+O(1) = O(n)\n",
    "# 2) Here time complexity is O(n) which is optimal for the given question. I am using extra space O(n) so I can just modify array in place without using extra array."
   ]
  }
 ],
 "metadata": {
  "kernelspec": {
   "display_name": "Python 3 (ipykernel)",
   "language": "python",
   "name": "python3"
  },
  "language_info": {
   "codemirror_mode": {
    "name": "ipython",
    "version": 3
   },
   "file_extension": ".py",
   "mimetype": "text/x-python",
   "name": "python",
   "nbconvert_exporter": "python",
   "pygments_lexer": "ipython3",
   "version": "3.9.7"
  }
 },
 "nbformat": 4,
 "nbformat_minor": 5
}
