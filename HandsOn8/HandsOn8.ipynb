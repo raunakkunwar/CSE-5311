{
 "cells": [
  {
   "cell_type": "markdown",
   "metadata": {},
   "source": [
    "# HandsOn 8"
   ]
  },
  {
   "cell_type": "markdown",
   "metadata": {},
   "source": [
    "### 1\n"
   ]
  },
  {
   "cell_type": "code",
   "execution_count": 3,
   "metadata": {},
   "outputs": [
    {
     "name": "stdout",
     "output_type": "stream",
     "text": [
      "3th smallest element is: 4\n"
     ]
    }
   ],
   "source": [
    "#partition array around pivor element\n",
    "def partition(arr, low, high):\n",
    "    \n",
    "    pivot = arr[high]  \n",
    "    i = low - 1       \n",
    "    \n",
    "    for j in range(low, high):\n",
    "        if arr[j] <= pivot:\n",
    "            i += 1\n",
    "            arr[i], arr[j] = arr[j], arr[i] #swap if smaller than pivot\n",
    "\n",
    "    arr[i + 1], arr[high] = arr[high], arr[i + 1]\n",
    "\n",
    "    return i + 1 \n",
    "\n",
    "#using quicksort to sort array\n",
    "def quicksort(arr, low, high):\n",
    "    if low < high:\n",
    "      \n",
    "        pivotIdx = partition(arr, low, high)\n",
    "        \n",
    "        quicksort(arr, low, pivotIdx - 1)\n",
    "        quicksort(arr, pivotIdx + 1, high)\n",
    "\n",
    "#finding ith order statistics\n",
    "def ith_order_statistics(arr, low, high, i):\n",
    "    if low == high: \n",
    "        return arr[low]\n",
    "\n",
    "    pivotIdx = partition(arr, low, high)\n",
    "    left_element = pivotIdx - low + 1\n",
    "\n",
    "    if left_element == i: \n",
    "        return arr[pivotIdx]\n",
    "    elif left_element > i:  \n",
    "        return ith_order_statistics(arr, low, pivotIdx - 1, i)\n",
    "    else:  \n",
    "        return ith_order_statistics(arr, pivotIdx + 1, high, i - left_element)\n",
    "\n",
    "\n",
    "arr =[4,7,2,8,9,6,1]\n",
    "i = 3\n",
    "\n",
    "result = ith_order_statistics(arr, 0, len(arr) - 1, i)\n",
    "    \n",
    "print(f\"{i}th smallest element is: {result}\")"
   ]
  },
  {
   "cell_type": "markdown",
   "metadata": {},
   "source": [
    "### 2"
   ]
  },
  {
   "cell_type": "code",
   "execution_count": 4,
   "metadata": {},
   "outputs": [
    {
     "name": "stdout",
     "output_type": "stream",
     "text": [
      "Error: Stack Overflow\n",
      "Stack: [10, 20, 50, 60, 90, 100]\n",
      "Popped: 100\n",
      "Stack: [10, 20, 50, 60, 90]\n"
     ]
    }
   ],
   "source": [
    "class Stack:\n",
    "    def __init__(self, size):\n",
    "        self.size = size               \n",
    "        self.stack = [0] * size       \n",
    "        self.top = -1       \n",
    "\n",
    "# Checking if the stack is empty\n",
    "def stack_empty(S):\n",
    "    return S.top == -1\n",
    "\n",
    "#adding elements in stack\n",
    "def push(S, val):\n",
    "    if S.top == S.size - 1:\n",
    "        print(\"Error: Stack Overflow\")        \n",
    "    else:\n",
    "        S.top += 1\n",
    "        S.stack[S.top] = val\n",
    "\n",
    "#removing element from the stack\n",
    "def pop(S):\n",
    "    if stack_empty(S):\n",
    "        raise IndexError(\"Error: Stack underflow\")\n",
    "    val = S.stack[S.top]\n",
    "    S.top -= 1\n",
    "    return val\n",
    "\n",
    "#print stack\n",
    "def stack_print(S):\n",
    "    if stack_empty(S):\n",
    "        print(\"Empty\")\n",
    "    else:\n",
    "        print(\"Stack:\", S.stack[:S.top + 1])\n",
    "\n",
    "\n",
    "# Initializing stack\n",
    "S = Stack(6)\n",
    "    \n",
    "# Pushing some elements in stack\n",
    "push(S, 10)\n",
    "push(S, 20)\n",
    "push(S, 50)\n",
    "push(S, 60)\n",
    "push(S, 90)\n",
    "push(S, 100)\n",
    "    \n",
    "# This will give error called stack overflow\n",
    "push(S, 120) \n",
    "\n",
    "stack_print(S) \n",
    "    \n",
    "# Popping top element from the stack\n",
    "pop_val = pop(S)\n",
    "print(f\"Popped: {pop_val}\")\n",
    "\n",
    "stack_print(S)  \n",
    "\n"
   ]
  },
  {
   "cell_type": "code",
   "execution_count": 5,
   "metadata": {},
   "outputs": [
    {
     "name": "stdout",
     "output_type": "stream",
     "text": [
      "Queue full\n",
      "20\n",
      "30\n",
      "50\n",
      "70\n",
      "80\n",
      "90\n",
      "44\n",
      "Empty queue\n",
      "None\n"
     ]
    }
   ],
   "source": [
    "class Queue:\n",
    "    def __init__(self, length):\n",
    "        self.length = length  \n",
    "        self.Q = [0] * length \n",
    "        self.head = 0\n",
    "        self.tail = 0  \n",
    "        self.size = 0  \n",
    "\n",
    "#Adding elements to queue\n",
    "def enqueue(Q, val):\n",
    "    if Q.size == Q.length:\n",
    "        print(\"Queue full\")\n",
    "        return\n",
    "    \n",
    "    Q.Q[Q.tail] = val \n",
    "    Q.tail = (Q.tail + 1) % Q.length  \n",
    "    Q.size += 1  \n",
    "\n",
    "#Removing elements from head\n",
    "def dequeue(Q):\n",
    "    if Q.size == 0:\n",
    "        print(\"Empty queue\")\n",
    "        return None\n",
    "    \n",
    "    val = Q.Q[Q.head]  \n",
    "    Q.head = (Q.head + 1) % Q.length \n",
    "    Q.size -= 1 \n",
    "    return val\n",
    "\n",
    "#Some examples\n",
    "\n",
    "#queue with 5 elements\n",
    "queue = Queue(6)\n",
    "\n",
    "#Adding elements in queue\n",
    "enqueue(queue, 20)\n",
    "enqueue(queue, 30)\n",
    "enqueue(queue, 50)\n",
    "enqueue(queue, 70)\n",
    "enqueue(queue, 80)\n",
    "enqueue(queue, 90)\n",
    "\n",
    "# Adding element in a enqueue when it is full, so it should display error\n",
    "enqueue(queue, 100)  \n",
    "\n",
    "#Removing elements from queue\n",
    "print(dequeue(queue))  \n",
    "print(dequeue(queue))  \n",
    "\n",
    "enqueue(queue, 44)\n",
    "\n",
    "print(dequeue(queue))  \n",
    "print(dequeue(queue))\n",
    "print(dequeue(queue))\n",
    "print(dequeue(queue)) \n",
    "print(dequeue(queue))  \n",
    "\n",
    "#Queue is empty here\n",
    "print(dequeue(queue)) \n"
   ]
  }
 ],
 "metadata": {
  "kernelspec": {
   "display_name": "Python 3",
   "language": "python",
   "name": "python3"
  },
  "language_info": {
   "codemirror_mode": {
    "name": "ipython",
    "version": 3
   },
   "file_extension": ".py",
   "mimetype": "text/x-python",
   "name": "python",
   "nbconvert_exporter": "python",
   "pygments_lexer": "ipython3",
   "version": "3.12.5"
  }
 },
 "nbformat": 4,
 "nbformat_minor": 2
}
